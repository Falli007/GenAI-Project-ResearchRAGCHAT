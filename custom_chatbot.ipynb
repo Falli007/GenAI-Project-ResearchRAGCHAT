{
 "cells": [
  {
   "cell_type": "code",
   "execution_count": null,
   "id": "2f24796c",
   "metadata": {},
   "outputs": [
    {
     "name": "stdout",
     "output_type": "stream",
     "text": [
      "Requirement already satisfied: openai in c:\\users\\allif\\anaconda3\\envs\\ds39\\lib\\site-packages (2.5.0)\n",
      "Requirement already satisfied: anyio<5,>=3.5.0 in c:\\users\\allif\\anaconda3\\envs\\ds39\\lib\\site-packages (from openai) (4.7.0)\n",
      "Requirement already satisfied: distro<2,>=1.7.0 in c:\\users\\allif\\anaconda3\\envs\\ds39\\lib\\site-packages (from openai) (1.9.0)\n",
      "Requirement already satisfied: httpx<1,>=0.23.0 in c:\\users\\allif\\anaconda3\\envs\\ds39\\lib\\site-packages (from openai) (0.28.1)\n",
      "Requirement already satisfied: jiter<1,>=0.10.0 in c:\\users\\allif\\anaconda3\\envs\\ds39\\lib\\site-packages (from openai) (0.11.1)\n",
      "Requirement already satisfied: pydantic<3,>=1.9.0 in c:\\users\\allif\\anaconda3\\envs\\ds39\\lib\\site-packages (from openai) (2.12.3)\n",
      "Requirement already satisfied: sniffio in c:\\users\\allif\\anaconda3\\envs\\ds39\\lib\\site-packages (from openai) (1.3.0)\n",
      "Requirement already satisfied: tqdm>4 in c:\\users\\allif\\anaconda3\\envs\\ds39\\lib\\site-packages (from openai) (4.67.1)\n",
      "Requirement already satisfied: typing-extensions<5,>=4.11 in c:\\users\\allif\\anaconda3\\envs\\ds39\\lib\\site-packages (from openai) (4.15.0)\n",
      "Requirement already satisfied: exceptiongroup>=1.0.2 in c:\\users\\allif\\anaconda3\\envs\\ds39\\lib\\site-packages (from anyio<5,>=3.5.0->openai) (1.2.0)\n",
      "Requirement already satisfied: idna>=2.8 in c:\\users\\allif\\anaconda3\\envs\\ds39\\lib\\site-packages (from anyio<5,>=3.5.0->openai) (3.7)\n",
      "Requirement already satisfied: certifi in c:\\users\\allif\\anaconda3\\envs\\ds39\\lib\\site-packages (from httpx<1,>=0.23.0->openai) (2025.8.3)\n",
      "Requirement already satisfied: httpcore==1.* in c:\\users\\allif\\anaconda3\\envs\\ds39\\lib\\site-packages (from httpx<1,>=0.23.0->openai) (1.0.9)\n",
      "Requirement already satisfied: h11>=0.16 in c:\\users\\allif\\anaconda3\\envs\\ds39\\lib\\site-packages (from httpcore==1.*->httpx<1,>=0.23.0->openai) (0.16.0)\n",
      "Requirement already satisfied: annotated-types>=0.6.0 in c:\\users\\allif\\anaconda3\\envs\\ds39\\lib\\site-packages (from pydantic<3,>=1.9.0->openai) (0.7.0)\n",
      "Requirement already satisfied: pydantic-core==2.41.4 in c:\\users\\allif\\anaconda3\\envs\\ds39\\lib\\site-packages (from pydantic<3,>=1.9.0->openai) (2.41.4)\n",
      "Requirement already satisfied: typing-inspection>=0.4.2 in c:\\users\\allif\\anaconda3\\envs\\ds39\\lib\\site-packages (from pydantic<3,>=1.9.0->openai) (0.4.2)\n",
      "Requirement already satisfied: colorama in c:\\users\\allif\\anaconda3\\envs\\ds39\\lib\\site-packages (from tqdm>4->openai) (0.4.6)\n",
      "Requirement already satisfied: langchain in c:\\users\\allif\\anaconda3\\envs\\ds39\\lib\\site-packages (0.3.27)\n",
      "Requirement already satisfied: langchain-core<1.0.0,>=0.3.72 in c:\\users\\allif\\anaconda3\\envs\\ds39\\lib\\site-packages (from langchain) (0.3.79)\n",
      "Requirement already satisfied: langchain-text-splitters<1.0.0,>=0.3.9 in c:\\users\\allif\\anaconda3\\envs\\ds39\\lib\\site-packages (from langchain) (0.3.11)\n",
      "Requirement already satisfied: langsmith>=0.1.17 in c:\\users\\allif\\anaconda3\\envs\\ds39\\lib\\site-packages (from langchain) (0.4.37)\n",
      "Requirement already satisfied: pydantic<3.0.0,>=2.7.4 in c:\\users\\allif\\anaconda3\\envs\\ds39\\lib\\site-packages (from langchain) (2.12.3)\n",
      "Requirement already satisfied: SQLAlchemy<3,>=1.4 in c:\\users\\allif\\anaconda3\\envs\\ds39\\lib\\site-packages (from langchain) (2.0.44)\n",
      "Requirement already satisfied: requests<3,>=2 in c:\\users\\allif\\anaconda3\\envs\\ds39\\lib\\site-packages (from langchain) (2.32.5)\n",
      "Requirement already satisfied: PyYAML>=5.3 in c:\\users\\allif\\anaconda3\\envs\\ds39\\lib\\site-packages (from langchain) (6.0.2)\n",
      "Requirement already satisfied: async-timeout<5.0.0,>=4.0.0 in c:\\users\\allif\\anaconda3\\envs\\ds39\\lib\\site-packages (from langchain) (4.0.3)\n",
      "Requirement already satisfied: tenacity!=8.4.0,<10.0.0,>=8.1.0 in c:\\users\\allif\\anaconda3\\envs\\ds39\\lib\\site-packages (from langchain-core<1.0.0,>=0.3.72->langchain) (9.1.2)\n",
      "Requirement already satisfied: jsonpatch<2.0.0,>=1.33.0 in c:\\users\\allif\\anaconda3\\envs\\ds39\\lib\\site-packages (from langchain-core<1.0.0,>=0.3.72->langchain) (1.33)\n",
      "Requirement already satisfied: typing-extensions<5.0.0,>=4.7.0 in c:\\users\\allif\\anaconda3\\envs\\ds39\\lib\\site-packages (from langchain-core<1.0.0,>=0.3.72->langchain) (4.15.0)\n",
      "Requirement already satisfied: packaging<26.0.0,>=23.2.0 in c:\\users\\allif\\anaconda3\\envs\\ds39\\lib\\site-packages (from langchain-core<1.0.0,>=0.3.72->langchain) (24.2)\n",
      "Requirement already satisfied: jsonpointer>=1.9 in c:\\users\\allif\\anaconda3\\envs\\ds39\\lib\\site-packages (from jsonpatch<2.0.0,>=1.33.0->langchain-core<1.0.0,>=0.3.72->langchain) (3.0.0)\n",
      "Requirement already satisfied: httpx<1,>=0.23.0 in c:\\users\\allif\\anaconda3\\envs\\ds39\\lib\\site-packages (from langsmith>=0.1.17->langchain) (0.28.1)\n",
      "Requirement already satisfied: orjson>=3.9.14 in c:\\users\\allif\\anaconda3\\envs\\ds39\\lib\\site-packages (from langsmith>=0.1.17->langchain) (3.11.3)\n",
      "Requirement already satisfied: requests-toolbelt>=1.0.0 in c:\\users\\allif\\anaconda3\\envs\\ds39\\lib\\site-packages (from langsmith>=0.1.17->langchain) (1.0.0)\n",
      "Requirement already satisfied: zstandard>=0.23.0 in c:\\users\\allif\\anaconda3\\envs\\ds39\\lib\\site-packages (from langsmith>=0.1.17->langchain) (0.25.0)\n",
      "Requirement already satisfied: anyio in c:\\users\\allif\\anaconda3\\envs\\ds39\\lib\\site-packages (from httpx<1,>=0.23.0->langsmith>=0.1.17->langchain) (4.7.0)\n",
      "Requirement already satisfied: certifi in c:\\users\\allif\\anaconda3\\envs\\ds39\\lib\\site-packages (from httpx<1,>=0.23.0->langsmith>=0.1.17->langchain) (2025.8.3)\n",
      "Requirement already satisfied: httpcore==1.* in c:\\users\\allif\\anaconda3\\envs\\ds39\\lib\\site-packages (from httpx<1,>=0.23.0->langsmith>=0.1.17->langchain) (1.0.9)\n",
      "Requirement already satisfied: idna in c:\\users\\allif\\anaconda3\\envs\\ds39\\lib\\site-packages (from httpx<1,>=0.23.0->langsmith>=0.1.17->langchain) (3.7)\n",
      "Requirement already satisfied: h11>=0.16 in c:\\users\\allif\\anaconda3\\envs\\ds39\\lib\\site-packages (from httpcore==1.*->httpx<1,>=0.23.0->langsmith>=0.1.17->langchain) (0.16.0)\n",
      "Requirement already satisfied: annotated-types>=0.6.0 in c:\\users\\allif\\anaconda3\\envs\\ds39\\lib\\site-packages (from pydantic<3.0.0,>=2.7.4->langchain) (0.7.0)\n",
      "Requirement already satisfied: pydantic-core==2.41.4 in c:\\users\\allif\\anaconda3\\envs\\ds39\\lib\\site-packages (from pydantic<3.0.0,>=2.7.4->langchain) (2.41.4)\n",
      "Requirement already satisfied: typing-inspection>=0.4.2 in c:\\users\\allif\\anaconda3\\envs\\ds39\\lib\\site-packages (from pydantic<3.0.0,>=2.7.4->langchain) (0.4.2)\n",
      "Requirement already satisfied: charset_normalizer<4,>=2 in c:\\users\\allif\\anaconda3\\envs\\ds39\\lib\\site-packages (from requests<3,>=2->langchain) (3.3.2)\n",
      "Requirement already satisfied: urllib3<3,>=1.21.1 in c:\\users\\allif\\anaconda3\\envs\\ds39\\lib\\site-packages (from requests<3,>=2->langchain) (2.5.0)\n",
      "Requirement already satisfied: greenlet>=1 in c:\\users\\allif\\anaconda3\\envs\\ds39\\lib\\site-packages (from SQLAlchemy<3,>=1.4->langchain) (3.2.4)\n",
      "Requirement already satisfied: exceptiongroup>=1.0.2 in c:\\users\\allif\\anaconda3\\envs\\ds39\\lib\\site-packages (from anyio->httpx<1,>=0.23.0->langsmith>=0.1.17->langchain) (1.2.0)\n",
      "Requirement already satisfied: sniffio>=1.1 in c:\\users\\allif\\anaconda3\\envs\\ds39\\lib\\site-packages (from anyio->httpx<1,>=0.23.0->langsmith>=0.1.17->langchain) (1.3.0)\n",
      "Requirement already satisfied: langchain_community in c:\\users\\allif\\anaconda3\\envs\\ds39\\lib\\site-packages (0.3.31)\n",
      "Requirement already satisfied: langchain-core<2.0.0,>=0.3.78 in c:\\users\\allif\\anaconda3\\envs\\ds39\\lib\\site-packages (from langchain_community) (0.3.79)\n",
      "Requirement already satisfied: langchain<2.0.0,>=0.3.27 in c:\\users\\allif\\anaconda3\\envs\\ds39\\lib\\site-packages (from langchain_community) (0.3.27)\n",
      "Requirement already satisfied: SQLAlchemy<3.0.0,>=1.4.0 in c:\\users\\allif\\anaconda3\\envs\\ds39\\lib\\site-packages (from langchain_community) (2.0.44)\n",
      "Requirement already satisfied: requests<3.0.0,>=2.32.5 in c:\\users\\allif\\anaconda3\\envs\\ds39\\lib\\site-packages (from langchain_community) (2.32.5)\n",
      "Requirement already satisfied: PyYAML<7.0.0,>=5.3.0 in c:\\users\\allif\\anaconda3\\envs\\ds39\\lib\\site-packages (from langchain_community) (6.0.2)\n",
      "Requirement already satisfied: aiohttp<4.0.0,>=3.8.3 in c:\\users\\allif\\anaconda3\\envs\\ds39\\lib\\site-packages (from langchain_community) (3.13.1)\n",
      "Requirement already satisfied: tenacity!=8.4.0,<10.0.0,>=8.1.0 in c:\\users\\allif\\anaconda3\\envs\\ds39\\lib\\site-packages (from langchain_community) (9.1.2)\n",
      "Requirement already satisfied: dataclasses-json<0.7.0,>=0.6.7 in c:\\users\\allif\\anaconda3\\envs\\ds39\\lib\\site-packages (from langchain_community) (0.6.7)\n",
      "Requirement already satisfied: pydantic-settings<3.0.0,>=2.10.1 in c:\\users\\allif\\anaconda3\\envs\\ds39\\lib\\site-packages (from langchain_community) (2.11.0)\n",
      "Requirement already satisfied: langsmith<1.0.0,>=0.1.125 in c:\\users\\allif\\anaconda3\\envs\\ds39\\lib\\site-packages (from langchain_community) (0.4.37)\n",
      "Requirement already satisfied: httpx-sse<1.0.0,>=0.4.0 in c:\\users\\allif\\anaconda3\\envs\\ds39\\lib\\site-packages (from langchain_community) (0.4.3)\n",
      "Requirement already satisfied: numpy>=1.26.2 in c:\\users\\allif\\anaconda3\\envs\\ds39\\lib\\site-packages (from langchain_community) (1.26.4)\n",
      "Requirement already satisfied: aiohappyeyeballs>=2.5.0 in c:\\users\\allif\\anaconda3\\envs\\ds39\\lib\\site-packages (from aiohttp<4.0.0,>=3.8.3->langchain_community) (2.6.1)\n",
      "Requirement already satisfied: aiosignal>=1.4.0 in c:\\users\\allif\\anaconda3\\envs\\ds39\\lib\\site-packages (from aiohttp<4.0.0,>=3.8.3->langchain_community) (1.4.0)\n",
      "Requirement already satisfied: async-timeout<6.0,>=4.0 in c:\\users\\allif\\anaconda3\\envs\\ds39\\lib\\site-packages (from aiohttp<4.0.0,>=3.8.3->langchain_community) (4.0.3)\n",
      "Requirement already satisfied: attrs>=17.3.0 in c:\\users\\allif\\anaconda3\\envs\\ds39\\lib\\site-packages (from aiohttp<4.0.0,>=3.8.3->langchain_community) (24.3.0)\n",
      "Requirement already satisfied: frozenlist>=1.1.1 in c:\\users\\allif\\anaconda3\\envs\\ds39\\lib\\site-packages (from aiohttp<4.0.0,>=3.8.3->langchain_community) (1.8.0)\n",
      "Requirement already satisfied: multidict<7.0,>=4.5 in c:\\users\\allif\\anaconda3\\envs\\ds39\\lib\\site-packages (from aiohttp<4.0.0,>=3.8.3->langchain_community) (6.7.0)\n",
      "Requirement already satisfied: propcache>=0.2.0 in c:\\users\\allif\\anaconda3\\envs\\ds39\\lib\\site-packages (from aiohttp<4.0.0,>=3.8.3->langchain_community) (0.4.1)\n",
      "Requirement already satisfied: yarl<2.0,>=1.17.0 in c:\\users\\allif\\anaconda3\\envs\\ds39\\lib\\site-packages (from aiohttp<4.0.0,>=3.8.3->langchain_community) (1.22.0)\n",
      "Requirement already satisfied: marshmallow<4.0.0,>=3.18.0 in c:\\users\\allif\\anaconda3\\envs\\ds39\\lib\\site-packages (from dataclasses-json<0.7.0,>=0.6.7->langchain_community) (3.26.1)\n",
      "Requirement already satisfied: typing-inspect<1,>=0.4.0 in c:\\users\\allif\\anaconda3\\envs\\ds39\\lib\\site-packages (from dataclasses-json<0.7.0,>=0.6.7->langchain_community) (0.9.0)\n",
      "Requirement already satisfied: langchain-text-splitters<1.0.0,>=0.3.9 in c:\\users\\allif\\anaconda3\\envs\\ds39\\lib\\site-packages (from langchain<2.0.0,>=0.3.27->langchain_community) (0.3.11)\n",
      "Requirement already satisfied: pydantic<3.0.0,>=2.7.4 in c:\\users\\allif\\anaconda3\\envs\\ds39\\lib\\site-packages (from langchain<2.0.0,>=0.3.27->langchain_community) (2.12.3)\n",
      "Requirement already satisfied: jsonpatch<2.0.0,>=1.33.0 in c:\\users\\allif\\anaconda3\\envs\\ds39\\lib\\site-packages (from langchain-core<2.0.0,>=0.3.78->langchain_community) (1.33)\n",
      "Requirement already satisfied: typing-extensions<5.0.0,>=4.7.0 in c:\\users\\allif\\anaconda3\\envs\\ds39\\lib\\site-packages (from langchain-core<2.0.0,>=0.3.78->langchain_community) (4.15.0)\n",
      "Requirement already satisfied: packaging<26.0.0,>=23.2.0 in c:\\users\\allif\\anaconda3\\envs\\ds39\\lib\\site-packages (from langchain-core<2.0.0,>=0.3.78->langchain_community) (24.2)\n",
      "Requirement already satisfied: jsonpointer>=1.9 in c:\\users\\allif\\anaconda3\\envs\\ds39\\lib\\site-packages (from jsonpatch<2.0.0,>=1.33.0->langchain-core<2.0.0,>=0.3.78->langchain_community) (3.0.0)\n",
      "Requirement already satisfied: httpx<1,>=0.23.0 in c:\\users\\allif\\anaconda3\\envs\\ds39\\lib\\site-packages (from langsmith<1.0.0,>=0.1.125->langchain_community) (0.28.1)\n",
      "Requirement already satisfied: orjson>=3.9.14 in c:\\users\\allif\\anaconda3\\envs\\ds39\\lib\\site-packages (from langsmith<1.0.0,>=0.1.125->langchain_community) (3.11.3)\n",
      "Requirement already satisfied: requests-toolbelt>=1.0.0 in c:\\users\\allif\\anaconda3\\envs\\ds39\\lib\\site-packages (from langsmith<1.0.0,>=0.1.125->langchain_community) (1.0.0)\n",
      "Requirement already satisfied: zstandard>=0.23.0 in c:\\users\\allif\\anaconda3\\envs\\ds39\\lib\\site-packages (from langsmith<1.0.0,>=0.1.125->langchain_community) (0.25.0)\n",
      "Requirement already satisfied: anyio in c:\\users\\allif\\anaconda3\\envs\\ds39\\lib\\site-packages (from httpx<1,>=0.23.0->langsmith<1.0.0,>=0.1.125->langchain_community) (4.7.0)\n",
      "Requirement already satisfied: certifi in c:\\users\\allif\\anaconda3\\envs\\ds39\\lib\\site-packages (from httpx<1,>=0.23.0->langsmith<1.0.0,>=0.1.125->langchain_community) (2025.8.3)\n",
      "Requirement already satisfied: httpcore==1.* in c:\\users\\allif\\anaconda3\\envs\\ds39\\lib\\site-packages (from httpx<1,>=0.23.0->langsmith<1.0.0,>=0.1.125->langchain_community) (1.0.9)\n",
      "Requirement already satisfied: idna in c:\\users\\allif\\anaconda3\\envs\\ds39\\lib\\site-packages (from httpx<1,>=0.23.0->langsmith<1.0.0,>=0.1.125->langchain_community) (3.7)\n",
      "Requirement already satisfied: h11>=0.16 in c:\\users\\allif\\anaconda3\\envs\\ds39\\lib\\site-packages (from httpcore==1.*->httpx<1,>=0.23.0->langsmith<1.0.0,>=0.1.125->langchain_community) (0.16.0)\n",
      "Requirement already satisfied: annotated-types>=0.6.0 in c:\\users\\allif\\anaconda3\\envs\\ds39\\lib\\site-packages (from pydantic<3.0.0,>=2.7.4->langchain<2.0.0,>=0.3.27->langchain_community) (0.7.0)\n",
      "Requirement already satisfied: pydantic-core==2.41.4 in c:\\users\\allif\\anaconda3\\envs\\ds39\\lib\\site-packages (from pydantic<3.0.0,>=2.7.4->langchain<2.0.0,>=0.3.27->langchain_community) (2.41.4)\n",
      "Requirement already satisfied: typing-inspection>=0.4.2 in c:\\users\\allif\\anaconda3\\envs\\ds39\\lib\\site-packages (from pydantic<3.0.0,>=2.7.4->langchain<2.0.0,>=0.3.27->langchain_community) (0.4.2)\n",
      "Requirement already satisfied: python-dotenv>=0.21.0 in c:\\users\\allif\\anaconda3\\envs\\ds39\\lib\\site-packages (from pydantic-settings<3.0.0,>=2.10.1->langchain_community) (1.1.1)\n",
      "Requirement already satisfied: charset_normalizer<4,>=2 in c:\\users\\allif\\anaconda3\\envs\\ds39\\lib\\site-packages (from requests<3.0.0,>=2.32.5->langchain_community) (3.3.2)\n",
      "Requirement already satisfied: urllib3<3,>=1.21.1 in c:\\users\\allif\\anaconda3\\envs\\ds39\\lib\\site-packages (from requests<3.0.0,>=2.32.5->langchain_community) (2.5.0)\n",
      "Requirement already satisfied: greenlet>=1 in c:\\users\\allif\\anaconda3\\envs\\ds39\\lib\\site-packages (from SQLAlchemy<3.0.0,>=1.4.0->langchain_community) (3.2.4)\n",
      "Requirement already satisfied: mypy-extensions>=0.3.0 in c:\\users\\allif\\anaconda3\\envs\\ds39\\lib\\site-packages (from typing-inspect<1,>=0.4.0->dataclasses-json<0.7.0,>=0.6.7->langchain_community) (1.1.0)\n",
      "Requirement already satisfied: exceptiongroup>=1.0.2 in c:\\users\\allif\\anaconda3\\envs\\ds39\\lib\\site-packages (from anyio->httpx<1,>=0.23.0->langsmith<1.0.0,>=0.1.125->langchain_community) (1.2.0)\n",
      "Requirement already satisfied: sniffio>=1.1 in c:\\users\\allif\\anaconda3\\envs\\ds39\\lib\\site-packages (from anyio->httpx<1,>=0.23.0->langsmith<1.0.0,>=0.1.125->langchain_community) (1.3.0)\n",
      "Collecting faiss-cpu\n",
      "  Downloading faiss_cpu-1.12.0-cp39-cp39-win_amd64.whl.metadata (5.2 kB)\n",
      "Requirement already satisfied: numpy<3.0,>=1.25.0 in c:\\users\\allif\\anaconda3\\envs\\ds39\\lib\\site-packages (from faiss-cpu) (1.26.4)\n",
      "Requirement already satisfied: packaging in c:\\users\\allif\\anaconda3\\envs\\ds39\\lib\\site-packages (from faiss-cpu) (24.2)\n",
      "Downloading faiss_cpu-1.12.0-cp39-cp39-win_amd64.whl (18.2 MB)\n",
      "   ---------------------------------------- 0.0/18.2 MB ? eta -:--:--\n",
      "   - -------------------------------------- 0.5/18.2 MB 8.5 MB/s eta 0:00:03\n",
      "   -- ------------------------------------- 1.0/18.2 MB 3.0 MB/s eta 0:00:06\n",
      "   -- ------------------------------------- 1.0/18.2 MB 3.0 MB/s eta 0:00:06\n",
      "   -- ------------------------------------- 1.3/18.2 MB 1.7 MB/s eta 0:00:11\n",
      "   -- ------------------------------------- 1.3/18.2 MB 1.7 MB/s eta 0:00:11\n",
      "   -- ------------------------------------- 1.3/18.2 MB 1.7 MB/s eta 0:00:11\n",
      "   -- ------------------------------------- 1.3/18.2 MB 1.7 MB/s eta 0:00:11\n",
      "   --- ------------------------------------ 1.6/18.2 MB 964.5 kB/s eta 0:00:18\n",
      "   ---- ----------------------------------- 1.8/18.2 MB 987.4 kB/s eta 0:00:17\n",
      "   ----- ---------------------------------- 2.4/18.2 MB 1.1 MB/s eta 0:00:15\n",
      "   ------ --------------------------------- 2.9/18.2 MB 1.3 MB/s eta 0:00:13\n",
      "   -------- ------------------------------- 3.7/18.2 MB 1.5 MB/s eta 0:00:10\n",
      "   --------- ------------------------------ 4.2/18.2 MB 1.6 MB/s eta 0:00:09\n",
      "   ---------- ----------------------------- 5.0/18.2 MB 1.7 MB/s eta 0:00:08\n",
      "   ------------- -------------------------- 6.0/18.2 MB 2.0 MB/s eta 0:00:07\n",
      "   --------------- ------------------------ 6.8/18.2 MB 2.1 MB/s eta 0:00:06\n",
      "   --------------- ------------------------ 7.1/18.2 MB 2.1 MB/s eta 0:00:06\n",
      "   --------------- ------------------------ 7.1/18.2 MB 2.1 MB/s eta 0:00:06\n",
      "   ---------------- ----------------------- 7.3/18.2 MB 1.9 MB/s eta 0:00:06\n",
      "   ---------------- ----------------------- 7.3/18.2 MB 1.9 MB/s eta 0:00:06\n",
      "   ---------------- ----------------------- 7.6/18.2 MB 1.8 MB/s eta 0:00:06\n",
      "   ---------------- ----------------------- 7.6/18.2 MB 1.8 MB/s eta 0:00:06\n",
      "   ----------------- ---------------------- 7.9/18.2 MB 1.7 MB/s eta 0:00:07\n",
      "   ----------------- ---------------------- 7.9/18.2 MB 1.7 MB/s eta 0:00:07\n",
      "   ----------------- ---------------------- 8.1/18.2 MB 1.6 MB/s eta 0:00:07\n",
      "   ----------------- ---------------------- 8.1/18.2 MB 1.6 MB/s eta 0:00:07\n",
      "   ----------------- ---------------------- 8.1/18.2 MB 1.6 MB/s eta 0:00:07\n",
      "   ------------------ --------------------- 8.4/18.2 MB 1.5 MB/s eta 0:00:07\n",
      "   ------------------- -------------------- 8.7/18.2 MB 1.4 MB/s eta 0:00:07\n",
      "   ------------------- -------------------- 8.7/18.2 MB 1.4 MB/s eta 0:00:07\n",
      "   ------------------- -------------------- 8.9/18.2 MB 1.4 MB/s eta 0:00:07\n",
      "   ------------------- -------------------- 8.9/18.2 MB 1.4 MB/s eta 0:00:07\n",
      "   -------------------- ------------------- 9.2/18.2 MB 1.4 MB/s eta 0:00:07\n",
      "   -------------------- ------------------- 9.2/18.2 MB 1.4 MB/s eta 0:00:07\n",
      "   --------------------- ------------------ 9.7/18.2 MB 1.3 MB/s eta 0:00:07\n",
      "   ---------------------- ----------------- 10.2/18.2 MB 1.4 MB/s eta 0:00:06\n",
      "   ------------------------ --------------- 11.0/18.2 MB 1.4 MB/s eta 0:00:05\n",
      "   ------------------------- -------------- 11.8/18.2 MB 1.5 MB/s eta 0:00:05\n",
      "   ---------------------------- ----------- 12.8/18.2 MB 1.6 MB/s eta 0:00:04\n",
      "   ------------------------------ --------- 13.9/18.2 MB 1.7 MB/s eta 0:00:03\n",
      "   -------------------------------- ------- 14.9/18.2 MB 1.8 MB/s eta 0:00:02\n",
      "   ---------------------------------- ----- 15.7/18.2 MB 1.8 MB/s eta 0:00:02\n",
      "   ------------------------------------ --- 16.8/18.2 MB 1.9 MB/s eta 0:00:01\n",
      "   ---------------------------------------  17.8/18.2 MB 2.0 MB/s eta 0:00:01\n",
      "   ---------------------------------------- 18.2/18.2 MB 2.0 MB/s eta 0:00:00\n",
      "Installing collected packages: faiss-cpu\n",
      "Successfully installed faiss-cpu-1.12.0\n",
      "Collecting pypdf\n",
      "  Downloading pypdf-6.1.3-py3-none-any.whl.metadata (7.1 kB)\n",
      "Requirement already satisfied: typing_extensions>=4.0 in c:\\users\\allif\\anaconda3\\envs\\ds39\\lib\\site-packages (from pypdf) (4.15.0)\n",
      "Downloading pypdf-6.1.3-py3-none-any.whl (323 kB)\n",
      "Installing collected packages: pypdf\n",
      "Successfully installed pypdf-6.1.3\n",
      "Requirement already satisfied: tiktoken in c:\\users\\allif\\anaconda3\\envs\\ds39\\lib\\site-packages (0.12.0)\n",
      "Requirement already satisfied: regex>=2022.1.18 in c:\\users\\allif\\anaconda3\\envs\\ds39\\lib\\site-packages (from tiktoken) (2025.9.18)\n",
      "Requirement already satisfied: requests>=2.26.0 in c:\\users\\allif\\anaconda3\\envs\\ds39\\lib\\site-packages (from tiktoken) (2.32.5)\n",
      "Requirement already satisfied: charset_normalizer<4,>=2 in c:\\users\\allif\\anaconda3\\envs\\ds39\\lib\\site-packages (from requests>=2.26.0->tiktoken) (3.3.2)\n",
      "Requirement already satisfied: idna<4,>=2.5 in c:\\users\\allif\\anaconda3\\envs\\ds39\\lib\\site-packages (from requests>=2.26.0->tiktoken) (3.7)\n",
      "Requirement already satisfied: urllib3<3,>=1.21.1 in c:\\users\\allif\\anaconda3\\envs\\ds39\\lib\\site-packages (from requests>=2.26.0->tiktoken) (2.5.0)\n",
      "Requirement already satisfied: certifi>=2017.4.17 in c:\\users\\allif\\anaconda3\\envs\\ds39\\lib\\site-packages (from requests>=2.26.0->tiktoken) (2025.8.3)\n"
     ]
    }
   ],
   "source": [
    "!pip install openai   # Install the OpenAI library\n",
    "!pip install langchain   # Install the LangChain library\n",
    "!pip install langchain_community   # Install the LangChain Community library\n",
    "!pip install faiss-cpu   # Install the FAISS library for efficient similarity search\n",
    "!pip install pypdf   # Install the PyPDF library for PDF processing\n",
    "!pip install tiktoken   # Install the TikToken library for tokenization"
   ]
  },
  {
   "cell_type": "markdown",
   "id": "0ae70a32",
   "metadata": {},
   "source": [
    "Installing libraries"
   ]
  },
  {
   "cell_type": "code",
   "execution_count": null,
   "id": "0be32c1f",
   "metadata": {},
   "outputs": [],
   "source": [
    "import openai\n",
    "from langchain.document_loaders import PyPDFLoader # For loading PDF documents\n",
    "from langchain.embeddings.openai import OpenAIEmbeddings # For generating embeddings using OpenAI\n",
    "from langchain.text_splitter import RecursiveCharacterTextSplitter # For splitting text into smaller chunks"
   ]
  },
  {
   "cell_type": "code",
   "execution_count": 11,
   "id": "f5e22496",
   "metadata": {},
   "outputs": [],
   "source": [
    "from langchain.llms import OpenAI # For interacting with OpenAI's language models\n",
    "import os # For accessing environment variables\n",
    "import re # For regular expressions\n",
    "from dotenv import load_dotenv # For loading environment variables from a .env file\n",
    "load_dotenv() # Load environment variables from .env file\n",
    "os.environ[\"OPENAI_API_KEY\"] = os.getenv(\"OPENAI_API_KEY\") # Set the OpenAI API key from environment variable"
   ]
  },
  {
   "cell_type": "code",
   "execution_count": null,
   "id": "11fbdff8",
   "metadata": {},
   "outputs": [
    {
     "data": {
      "text/plain": [
       "AIMessage(content='RAG stands for retrieval-augmented generation, a type of model in artificial intelligence that combines information retrieval and natural language generation techniques. \\n\\nRetrieval refers to the process of finding relevant information from a large dataset, while augmentation involves enhancing this information with additional context or details. Generation then uses this combined information to create a new output, such as a text response or recommendation. \\n\\nBy integrating these three components, RAG models are able to generate more accurate and contextually relevant responses compared to traditional generation models that rely solely on generating text from scratch.', additional_kwargs={}, response_metadata={'token_usage': {'completion_tokens': 111, 'prompt_tokens': 36, 'total_tokens': 147, 'completion_tokens_details': {'accepted_prediction_tokens': 0, 'audio_tokens': 0, 'reasoning_tokens': 0, 'rejected_prediction_tokens': 0}, 'prompt_tokens_details': {'audio_tokens': 0, 'cached_tokens': 0}}, 'model_name': 'gpt-3.5-turbo', 'system_fingerprint': None, 'finish_reason': 'stop', 'logprobs': None}, id='run--f4fcc956-d6c6-4a1a-98a0-62958891b532-0')"
      ]
     },
     "execution_count": 16,
     "metadata": {},
     "output_type": "execute_result"
    }
   ],
   "source": [
    "from langchain_community.chat_models import ChatOpenAI # This library is used to interact with OpenAI's chat models\n",
    "\n",
    "llm = ChatOpenAI(temperature=0.9, model_name=\"gpt-3.5-turbo\") # Initialize the OpenAI language model with specified parameters\n",
    "\n",
    "llm.invoke(\"Explain RAG in simple terms. In terms of its components, RAG consists of three main parts: retrieval, augmentation, and generation.\") # Invoke the language model to explain RAG in simple terms"
   ]
  },
  {
   "cell_type": "markdown",
   "id": "c3cc0fe8",
   "metadata": {},
   "source": [
    "Using custom dataset"
   ]
  },
  {
   "cell_type": "markdown",
   "id": "fdf8b42f",
   "metadata": {},
   "source": [
    "RecursiveCharacterTextSplitter is a text splitter that splits the text into chunks, trying to keep paragraphs togeher and avoid loosing context over pages"
   ]
  },
  {
   "cell_type": "code",
   "execution_count": 18,
   "id": "6e438011",
   "metadata": {},
   "outputs": [],
   "source": [
    "from langchain.vectorstores import FAISS   # For creating a vector store using FAISS. FAISS is a library for efficient similarity search and clustering of dense vectors.\n",
    "from langchain.embeddings import OpenAIEmbeddings   # For generating embeddings using OpenAI. Embeddings are numerical representations of text that capture semantic meaning."
   ]
  },
  {
   "cell_type": "code",
   "execution_count": 39,
   "id": "f3e56dd3",
   "metadata": {},
   "outputs": [],
   "source": [
    "from langchain_community.document_loaders import PyPDFLoader # For loading PDF documents. \n",
    "from langchain.text_splitter import RecursiveCharacterTextSplitter # For splitting text into smaller chunks.\n",
    "from langchain_community.vectorstores import Chroma # For creating a vector store using Chroma. Chroma is a vector database that allows for efficient storage and retrieval of vector embeddings.   \n",
    "from langchain_openai import OpenAIEmbeddings, ChatOpenAI # For generating embeddings and interacting with OpenAI's chat models.\n",
    "from langchain.chains import ConversationalRetrievalChain # For creating a conversational retrieval chain.\n",
    "from langchain.prompts import PromptTemplate # For creating prompt templates.\n",
    "from dotenv import load_dotenv # For loading environment variables from a .env file.\n",
    "import os"
   ]
  },
  {
   "cell_type": "code",
   "execution_count": 40,
   "id": "d2c84ee4",
   "metadata": {},
   "outputs": [
    {
     "name": "stdout",
     "output_type": "stream",
     "text": [
      " Loaded 92 text chunks from PDF\n"
     ]
    }
   ],
   "source": [
    "# Loading PDF\n",
    "pdf_path = r\"C:\\Users\\allif\\Downloads\\GenAI-Project-ResearchRagCHAT\\RAGPaper.pdf\" # Path to the PDF file.\n",
    "loader = PyPDFLoader(pdf_path) # Initialize the PDF loader with the specified file path.\n",
    "documents = loader.load() # Load the PDF document into memory.\n",
    "\n",
    "# Splitting into chunks\n",
    "splitter = RecursiveCharacterTextSplitter(chunk_size=1000, chunk_overlap=200) # Split documents into chunks of 1000 characters with 200 characters overlap.\n",
    "chunks = splitter.split_documents(documents) # Split the loaded documents into smaller chunks for better processing.\n",
    "\n",
    "print(f\" Loaded {len(chunks)} text chunks from PDF\")\n",
    "\n",
    "\n"
   ]
  },
  {
   "cell_type": "code",
   "execution_count": null,
   "id": "358e3db6",
   "metadata": {},
   "outputs": [
    {
     "name": "stdout",
     "output_type": "stream",
     "text": [
      "\\ Answer:\n",
      "The RAG paper discusses the effectiveness of the Retrieval-Augmented Generation (RAG) model in question answering tasks. Key points include:\n",
      "1. RAG can generate correct answers even when the answer is not in any retrieved document, achieving 11.8% accuracy in such cases.\n",
      "2. RAG outperforms BART on Open MS-MARCO NLG by 2.6 Bleu points and 2.6 Rouge-L points.\n",
      "3. RAG models generate factually correct text more often than BART and hallucinate less.\n",
      "4. RAG generations are more diverse than BART generations.\n",
      "5. RAG models are more factual and specific than BART for Jeopardy question generation.\n",
      "6. RAG's retrieval mechanism improves results for all tasks, with a gold article present in the top 10 retrieved articles in 90% of cases.\n"
     ]
    }
   ],
   "source": [
    "# Create embeddings and vector store\n",
    "embeddings = OpenAIEmbeddings()\n",
    "vectorstore = Chroma.from_documents(chunks, embeddings)\n",
    "\n",
    "# Initialize LLM\n",
    "llm = ChatOpenAI(model=\"gpt-3.5-turbo\", temperature=0.2)\n",
    "\n",
    "# Create retrieval chain\n",
    "CONDENSE_QUESTION_PROMPT = PromptTemplate.from_template(\"\"\"\n",
    "Given the following conversation and a follow up question, rephrase the follow up question to be a standalone question.\n",
    "\n",
    "Chat History:\n",
    "{chat_history}\n",
    "Follow up Input: {question}\n",
    "Standalone question:\n",
    "\"\"\")\n",
    "\n",
    "# Create the ConversationalRetrievalChain\n",
    "qa = ConversationalRetrievalChain.from_llm(\n",
    "    llm=llm,\n",
    "    retriever=vectorstore.as_retriever(search_kwargs={\"k\": 4}),\n",
    "    condense_question_prompt=CONDENSE_QUESTION_PROMPT,\n",
    "    return_source_documents=True,\n",
    "    verbose=False\n",
    ")\n",
    "\n",
    "# Ask question about the PDF\n",
    "chat_history = []\n",
    "query = \"Summarize the key points from the RAG paper.\"\n",
    "result = qa.invoke({\"question\": query, \"chat_history\": chat_history})\n",
    "\n",
    "# Print the answer\n",
    "print(\"\\ Answer:\")\n",
    "print(result[\"answer\"])\n"
   ]
  },
  {
   "cell_type": "code",
   "execution_count": 42,
   "id": "54cedc2a",
   "metadata": {},
   "outputs": [
    {
     "name": "stdout",
     "output_type": "stream",
     "text": [
      "\n",
      " Sources used:\n",
      "→ C:\\Users\\allif\\Downloads\\GenAI-Project-ResearchRagCHAT\\RAGPaper.pdf | snippet: to more effective marginalization over documents. Furthermore, RAG can generate correct answers\n",
      "even when the correct answer is not in any retrieved d\n",
      "→ C:\\Users\\allif\\Downloads\\GenAI-Project-ResearchRagCHAT\\RAGPaper.pdf | snippet: to more effective marginalization over documents. Furthermore, RAG can generate correct answers\n",
      "even when the correct answer is not in any retrieved d\n",
      "→ C:\\Users\\allif\\Downloads\\GenAI-Project-ResearchRagCHAT\\RAGPaper.pdf | snippet: in 71% of cases, and a gold article is present in the top 10 retrieved articles in 90% of cases.\n",
      "4.5 Additional Results\n",
      "Generation Diversity Section 4\n",
      "→ C:\\Users\\allif\\Downloads\\GenAI-Project-ResearchRagCHAT\\RAGPaper.pdf | snippet: in 71% of cases, and a gold article is present in the top 10 retrieved articles in 90% of cases.\n",
      "4.5 Additional Results\n",
      "Generation Diversity Section 4\n"
     ]
    }
   ],
   "source": [
    "# Asking another question\n",
    "print(\"\\n Sources used:\")\n",
    "for doc in result[\"source_documents\"]:\n",
    "    print(\"→\", doc.metadata.get(\"source\", \"Unknown\"), \"| snippet:\", doc.page_content[:150])"
   ]
  }
 ],
 "metadata": {
  "kernelspec": {
   "display_name": "ds39",
   "language": "python",
   "name": "python3"
  },
  "language_info": {
   "codemirror_mode": {
    "name": "ipython",
    "version": 3
   },
   "file_extension": ".py",
   "mimetype": "text/x-python",
   "name": "python",
   "nbconvert_exporter": "python",
   "pygments_lexer": "ipython3",
   "version": "3.9.23"
  }
 },
 "nbformat": 4,
 "nbformat_minor": 5
}
